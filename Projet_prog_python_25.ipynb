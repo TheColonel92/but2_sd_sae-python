{
 "cells": [
  {
   "cell_type": "markdown",
   "id": "1efbe2c9-c6dc-4249-b34e-b7165d2c097c",
   "metadata": {},
   "source": [
    "# Projet : programmation statistique avec Python\n",
    "---"
   ]
  },
  {
   "cell_type": "markdown",
   "id": "0da3502f-8417-4d4d-b564-c3b6e4ac7259",
   "metadata": {
    "jp-MarkdownHeadingCollapsed": true
   },
   "source": [
    "- BUT 2 - VCOD/EMS\n",
    "- Année académique 2024/2025\n",
    "- Adresse :\n",
    "    - Centre Borelli – Université de Paris Cité\n",
    "    - IUT Paris Rives de Seine\n",
    "- Mail : amine.meddour@u-paris.fr\n",
    "---\n",
    "- Remise du projet :\n",
    "**Vous devez envoyer votre notebook (ou script python) + préparer un support de présentation sur powerpoint pour présenter votre travail    au plus tard le 8 janvier 2025 avant minuit. (Important : 3 étudiants maximum par groupe)**.\n",
    "---"
   ]
  },
  {
   "cell_type": "markdown",
   "id": "4355bf7d-2818-4a56-a367-f09a39a684e8",
   "metadata": {},
   "source": [
    "## Objectif :\n",
    "\n",
    "- Ce projet est un travail pratique sur données réelles. Il s'agit de mettre en place une analyse exploratoire du jeu de données de crédits décrivant les détails financiers et bancaires des clients d’une banque en utilisant un certain nombre de packages Python (pandas, numpy,scipy, matplotlib et scikit-learn,..).\n",
    "\n",
    "- Présentation du projet\n",
    "    - Le notebook doit présenter de façon claire et concise:\n",
    "    - l'objet de l'analyse\n",
    "    - la description des données (individus/variables utilisées, variables supplémentaires etc.)\n",
    "    - l'analyse proprement dite\n",
    "    - les commentaires sur les résultats obtenus.\n",
    "    - les commentaires sur le code utilisé.\n",
    "\n",
    "**Vous devez envoyer votre notebook (ou script python) + préparer un support de présentation sur powerpoint pour présenter votre travail    au plus tard le 8 janvier 2025 avant minuit. (Important : 3 étudiants maximum par groupe)**."
   ]
  },
  {
   "cell_type": "markdown",
   "id": "00eacb61-4ba8-447e-93cb-31e0282f4495",
   "metadata": {},
   "source": [
    "###  Présentation des données\n",
    "---\n",
    "\n",
    "- **Données** : L'ensemble de données de crédits décrit les détails financiers et bancaires des clients et la tâche consiste à déterminer si le client est bon ou mauvais. L'hypothèse est que la tâche consiste à prédire si un client remboursera un prêt ou un crédit. L'ensemble de données comprend 1000 exemples et 20 variables, dont 7 numériques (entiers) et 13 catégorielles. La dernière colonne de la table fait référence à la variable cible : 1: bon client et 2: mauvais client.\n",
    "\n",
    "- **Noms des variables** : (Statut du compte courant existant, Durée en mois, Historique de crédit, Objectif, Montant du crédit, Compte d'épargne, Emploi actuel depuis, Taux de versement en, pourcentage du revenu disponible, Statut personnel et sexe, Autres débiteurs,Résidence actuelle depuis, Propriété, Age en années, Autres plans de versement, Logement, Nombre de crédits existants dans cette banque, Travail, Nombre de personnes à charge, Téléphone, Travailleur étranger).\n",
    "\n",
    "- Lors du chargement de la table, vous pouvez renommer les variables en utilisant la liste suivante :\n",
    "columns = ['statut_compte', 'duree_mois', 'historique', 'objectif', 'montant', 'epargne', 'emploi', 'taux_versement', 'statut_sexe', 'autre_debiteurs', 'residence', 'propriete', 'age', 'plan_versement', 'logement', 'n_credit', 'travail', 'n_p_charge', 'tel', 'trav_etranger']\n",
    "\n",
    "- y étant la variable cible (des labels) qui prend deux valeurs (1 et 2), 1:= désigne un bon client et 2 désigne un mauvais client.\n",
    "\n",
    "- **Source et description des données Crédits** :\n",
    "\n",
    "https://archive.ics.uci.edu/dataset/144/statlog+german+credit+data\n"
   ]
  },
  {
   "cell_type": "markdown",
   "id": "e8dbeaca-e3e8-4e3a-b6fc-154259563602",
   "metadata": {},
   "source": [
    "### Chargement et description des données"
   ]
  },
  {
   "cell_type": "code",
   "execution_count": 8,
   "id": "bb099b59-c933-4123-a5b8-add228d335f5",
   "metadata": {
    "tags": []
   },
   "outputs": [
    {
     "name": "stdout",
     "output_type": "stream",
     "text": [
      "Defaulting to user installation because normal site-packages is not writeable\n",
      "Requirement already satisfied: ucimlrepo in c:\\users\\lazhar.labiod\\appdata\\roaming\\python\\python311\\site-packages (0.0.3)\n"
     ]
    }
   ],
   "source": [
    "#In a Jupyter notebook, install with the command\n",
    "!pip3 install -U ucimlrepo\n",
    "# Restart the kernel and import the module ucimlrepo."
   ]
  },
  {
   "cell_type": "code",
   "execution_count": 1,
   "id": "1f485e41-c19e-47ae-9e17-efb59ce3e425",
   "metadata": {
    "tags": []
   },
   "outputs": [],
   "source": [
    "import ucimlrepo"
   ]
  },
  {
   "cell_type": "code",
   "execution_count": 3,
   "id": "5d96d219-b213-4d32-92b0-b9416fa1efbc",
   "metadata": {
    "tags": []
   },
   "outputs": [],
   "source": [
    "# Installer le package ucimlrepo\n",
    "\n",
    "#pip install ucimlrepo\n",
    " \n",
    "\n",
    "# Importer les données  \n",
    "\n",
    "from ucimlrepo import fetch_ucirepo \n",
    "  \n",
    "# Récupérer l'ensemble de données\n",
    "statlog_german_credit_data = fetch_ucirepo(id=144) \n",
    "  \n",
    "# Les données (sous forme de dataframes pandas) \n",
    "X = statlog_german_credit_data.data.features \n",
    "y = statlog_german_credit_data.data.targets \n"
   ]
  },
  {
   "cell_type": "code",
   "execution_count": 6,
   "id": "4b2f83b9-6e01-4ec3-bdf4-6bd14778430e",
   "metadata": {
    "tags": []
   },
   "outputs": [
    {
     "name": "stdout",
     "output_type": "stream",
     "text": [
      "           name                                        description\n",
      "0    Attribute1                Status of existing checking account\n",
      "1    Attribute2                                           Duration\n",
      "2    Attribute3                                     Credit history\n",
      "3    Attribute4                                            Purpose\n",
      "4    Attribute5                                      Credit amount\n",
      "5    Attribute6                              Savings account/bonds\n",
      "6    Attribute7                           Present employment since\n",
      "7    Attribute8  Installment rate in percentage of disposable i...\n",
      "8    Attribute9                            Personal status and sex\n",
      "9   Attribute10                         Other debtors / guarantors\n",
      "10  Attribute11                            Present residence since\n",
      "11  Attribute12                                           Property\n",
      "12  Attribute13                                                Age\n",
      "13  Attribute14                            Other installment plans\n",
      "14  Attribute15                                            Housing\n",
      "15  Attribute16            Number of existing credits at this bank\n",
      "16  Attribute17                                                Job\n",
      "17  Attribute18  Number of people being liable to provide maint...\n",
      "18  Attribute19                                          Telephone\n",
      "19  Attribute20                                     foreign worker\n",
      "20        class                                  1 = Good, 2 = Bad\n"
     ]
    }
   ],
   "source": [
    "# metadata \n",
    "#print(statlog_german_credit_data.metadata) \n",
    "  \n",
    "# variable information \n",
    "#print(statlog_german_credit_data.variables) \n",
    "print(statlog_german_credit_data.variables[['name','description']])"
   ]
  },
  {
   "cell_type": "markdown",
   "id": "08a09228-47b4-49e7-b195-c171d8c9eaf4",
   "metadata": {},
   "source": [
    "## Partie 1 : Manipulation, analyse et visualisation des données statlog_german_credit_data\n",
    "---"
   ]
  },
  {
   "cell_type": "markdown",
   "id": "f1339c5d-d5bc-4c04-be45-29bb01bd3c36",
   "metadata": {},
   "source": [
    "- Commencer par une étude exploratoire préliminaire\n",
    "    - Chargement des données\n",
    "    - Description des données\n",
    "    - Visualisation: Représentations Graphiques , univariée et bivariée, croisement des variables\n",
    "    - Scinder le dataset en deux sous ensemble data-qualitative et data-quantitative\n",
    "- Etude exploratoire multidimensionnelles: ACP et classification de type CAH et k-means\n",
    "    - Faire une acp sur la base des données data-quantitative\n",
    "    - Faire un clustering avec k-means ou CAH et projeter les clusters sur le premier plan factoriel de l’acp\n",
    "    - Faire une brève interprétation des résultats obtenus"
   ]
  },
  {
   "cell_type": "markdown",
   "id": "78b2ff28-8322-4dd9-92bd-1f0bb6319b2e",
   "metadata": {},
   "source": [
    "## Partie2: Réorganisation et visualisation d'une matrice \n",
    "---\n",
    "- L'objectif de cette partie est d'appliquer la fonction svd_1d sur une matrice X afin de mieux  réorganiser ses lignes et ses colonnes. Cette méthode nous permet de réordonner à la fois les lignes et les colonnes afin de visualiser les éléments de façon plus groupée.\n",
    "\n",
    "- Le principe de la méthode svd_1d est d'approximer  de manière itérative les vecteurs singuliers associés à la plus grande valeur singulère de la matrice de la matrice X. \n",
    "\n",
    "-  En effet, afin de pouvoir réordonner les lignes et les colonnes de X pour avoir une strcture par blocs, il faut d'abord trier les vecteurs u et v, ensuite réorganisé les lignes en fonction du tri de u  et les colonnes de X du tri de v."
   ]
  },
  {
   "cell_type": "code",
   "execution_count": 7,
   "id": "edebc477",
   "metadata": {
    "tags": []
   },
   "outputs": [],
   "source": [
    "# Chargement des libraiies numpy, pands, matplolib, math et  random\n",
    "import numpy as np\n",
    "from numpy.linalg import norm\n",
    "from random import normalvariate\n",
    "from math import sqrt\n",
    "#from scipy.io import loadmat\n",
    "import matplotlib.pylab as plt\n",
    "import pandas as pd"
   ]
  },
  {
   "cell_type": "code",
   "execution_count": 8,
   "id": "99769ea9",
   "metadata": {
    "tags": []
   },
   "outputs": [],
   "source": [
    "def randomUnitVector(n):\n",
    "    unnormalized = [normalvariate(0, 1) for _ in range(n)]\n",
    "    theNorm = sqrt(sum(x * x for x in unnormalized))\n",
    "    return [x / theNorm for x in unnormalized]"
   ]
  },
  {
   "cell_type": "code",
   "execution_count": 9,
   "id": "22087c9c",
   "metadata": {
    "tags": []
   },
   "outputs": [],
   "source": [
    "def svd_1d(X, epsilon=1e-10):\n",
    "    A = np.array(X)\n",
    "    \n",
    "    n, m = A.shape\n",
    "    \n",
    "    # Transformation de A en une  matrice stochastique de dimension (n+m) * (n+m)\n",
    "    Dr = np.diag(A.sum(axis=1))\n",
    "    Dc = np.diag(A.sum(axis=0))\n",
    "    \n",
    "    Dc_1 = np.linalg.inv(Dc)\n",
    "    Dr_1 = np.linalg.inv(Dr)\n",
    "    \n",
    "    col1 = np.concatenate([np.zeros((n,n)), np.dot(Dc_1 , A.T)])\n",
    "    col2 = np.concatenate([np.dot(Dr_1 , A), np.zeros((m,m))])\n",
    "    \n",
    "    S = np.concatenate([col1, col2], axis=1)\n",
    "    \n",
    "    # initialisation du vecteur currentV\n",
    "    x = randomUnitVector(n+m)\n",
    "    lastV = None\n",
    "    currentV = x\n",
    "    \n",
    "    lastE = np.linalg.norm(currentV)\n",
    "\n",
    "    # Itérations \n",
    "    iterations = 0\n",
    "    while True:\n",
    "        iterations += 1\n",
    "        lastV = np.array(currentV)\n",
    "        currentV = np.dot(S, lastV)\n",
    "        currentV = currentV / norm(currentV)\n",
    "        \n",
    "        last_u = lastV[list(range(0,n))]\n",
    "        last_v = lastV[list(range(n,n+m))]\n",
    "        \n",
    "        current_u = currentV[list(range(0,n))]\n",
    "        current_v = currentV[list(range(n,n+m))]\n",
    "        \n",
    "        e_u = np.linalg.norm(current_u - last_u)\n",
    "        e_v = np.linalg.norm(current_v - last_v)\n",
    "        \n",
    "        currentE = e_u + e_v\n",
    "        \n",
    "        d = abs(currentE - lastE)\n",
    "        lastE = currentE\n",
    "        \n",
    "        if d <= epsilon:\n",
    "            print(\"converged in {} iterations!\".format(iterations))\n",
    "\n",
    "            #u = currentV[range(0,n)]\n",
    "            #v = currentV[range(n,n+m)]\n",
    "            \n",
    "            return current_u, current_v"
   ]
  },
  {
   "cell_type": "markdown",
   "id": "78364fe5-b2ab-4115-9135-04b2d60b305d",
   "metadata": {},
   "source": [
    "### Questions :\n",
    "---"
   ]
  },
  {
   "cell_type": "markdown",
   "id": "2122196c-e884-44cd-a627-19e050535baa",
   "metadata": {},
   "source": [
    "Q1 : Expliquer les deux fonctions, randomUnitVector et svd_1d"
   ]
  },
  {
   "cell_type": "markdown",
   "id": "dcdbb407-c097-489a-bbba-b6bcb9de3f1c",
   "metadata": {},
   "source": [
    "Q2 : Créer une dataframe à partir de X en considérant le noms des lignes et colonnes?\n",
    "\n",
    "- la matrice X donne une description de 16 villes américaines (les colonnes) décrites par 9 caractéristiques (les lignes), chaque cellule de X indique la présence 1 ou l'absence 0 d'une carctéristique dans une ville."
   ]
  },
  {
   "cell_type": "code",
   "execution_count": 10,
   "id": "e88b7702",
   "metadata": {
    "scrolled": true,
    "tags": []
   },
   "outputs": [],
   "source": [
    "X = np.array([[0, 0, 0, 0, 0, 0, 0, 1, 0, 0, 1, 0, 0, 0, 0, 0],\n",
    "                 [0, 1, 1, 1, 0, 0, 1, 0, 0, 0, 0, 1, 0, 0, 1, 0],\n",
    "                 [0, 0, 0, 0, 0, 0, 0, 1, 0, 0, 1, 0, 0, 0, 0, 0],\n",
    "                 [1, 0, 0, 0, 1, 1, 0, 0, 1, 1, 0, 0, 1, 1, 0, 1],\n",
    "                 [0, 1, 1, 1, 0, 0, 1, 0, 0, 0, 0, 1, 0, 0, 1, 0],\n",
    "                 [1, 0, 0, 0, 1, 1, 0, 0, 1, 1, 0, 0, 1, 1, 0, 1],\n",
    "                 [0, 0, 0, 0, 0, 0, 0, 0, 1, 1, 0, 0, 1, 1, 0, 0],\n",
    "                 [0, 0, 0, 0, 0, 0, 0, 1, 0, 0, 1, 0, 0, 0, 0, 0],\n",
    "                 [0, 1, 1, 1, 0, 0, 1, 0, 0, 0, 0, 1, 0, 0, 1, 0]])\n",
    "\n",
    "columns=[\"A\",\"B\",\"C\",\"D\",\"E\",\"F\",\"G\",\"H\",\"I\",\"J\",\"K\",\"L\",\"M\",\"N\",\"O\",\"P\"]\n",
    "index=[\"HighSchool\", \"AgricultCoop\", \"Railstation\", \"OneRoomSchool\", \"Veterinary\", \"NoDoctor\", \"NoWaterSupply\",  \"PoliceStation\", \"LandReallocation\"]\n"
   ]
  },
  {
   "cell_type": "markdown",
   "id": "91d24c41-3df9-4893-82c7-954659778b92",
   "metadata": {},
   "source": [
    "Q3 : Visualiser la matrice X (utiliser la fonction  imshow de matplotlib), "
   ]
  },
  {
   "attachments": {
    "369d82d1-2e6d-46f3-954c-223caa4700ec.png": {
     "image/png": "[encoded data removed]"
    }
   },
   "cell_type": "markdown",
   "id": "e470da4a-3053-4321-843e-485b44c56a3c",
   "metadata": {},
   "source": [
    "![data_X.png](attachment:369d82d1-2e6d-46f3-954c-223caa4700ec.png)"
   ]
  },
  {
   "cell_type": "markdown",
   "id": "65c47d03-a32a-4dbc-82a9-3a1cf8ac8066",
   "metadata": {},
   "source": [
    "Q4: Ecrire la fonction Reordonner (aide : utiliser argsort() de numpy)\n",
    "- qui prend en paramètres X,et ses vecteurs singuliers u et v obtenus à partir \n",
    "de svd_1d(X, epsilon=1e-10)\n",
    "- et qui renvoie la matrice X réordonnée selon le tri de u et v"
   ]
  },
  {
   "cell_type": "code",
   "execution_count": 8,
   "id": "e6a7da9c-16e3-4ad3-9902-531e53ac5429",
   "metadata": {},
   "outputs": [],
   "source": [
    "#%%script false --no-raise-error\n",
    "def reordonner(X, u, v):\n",
    "    \"\"\"\n",
    "        renvoie les lignes et les colonnes de X réorganisées  par rapport au tri des vecteurs  u et v\n",
    "        utiliser argsort() pour trier les vecteurs u et v\n",
    "    \"\"\"\n",
    "    \n",
    "    à completer le code ici...\n",
    " \n",
    "    return X_reordonnee"
   ]
  },
  {
   "attachments": {
    "75544f72-9dc4-44aa-b5a9-fa2aad4952a9.png": {
     "image/png": "[encoded data removed]"
    }
   },
   "cell_type": "markdown",
   "id": "8202938d-b59c-4291-be88-5a5d3be0b176",
   "metadata": {},
   "source": [
    "Q5:\n",
    "\n",
    "- Claculer les deux premiers vecteurs singuliers de X u et v - (appeler la fonction R1svd)\n",
    "- Réordonner X en fonction des tris de u et v- (appler la fonction Reordonner)\n",
    "- Visualiser X réordnnée (avec imshow) pour avoir une matrice réorganiser par blocs\n",
    "---\n",
    "- Résultat attendu\n",
    "\n",
    "![data_X_reordred.png](attachment:75544f72-9dc4-44aa-b5a9-fa2aad4952a9.png)"
   ]
  },
  {
   "attachments": {
    "1ee58872-e915-4421-ae2c-640dc72a534f.png": {
     "image/png": "[encoded data removed]"
    }
   },
   "cell_type": "markdown",
   "id": "18c7142f-cccb-431b-aed8-e65143e5998c",
   "metadata": {},
   "source": [
    "Q6:\n",
    "\n",
    "- Calculer la matrice  de similarité entre les lignes de X, $SR=XX^T$, ($X^T$ est matrice transposée de X).\n",
    "- Calculer la matrice de similarité entre les colonnes de X, $SC=X^TX$\n",
    "- Construire la matrice\n",
    "$\n",
    "M= \\begin{pmatrix}\n",
    "SR & X\\\\\n",
    "X^T & SC\n",
    "\\end{pmatrix} \n",
    "$ \n",
    "- Visualiser M reordonnée en fonction des tris de u et v.\n",
    "---\n",
    "- Résultat attendu\n",
    "  \n",
    "![data_M_reordonnee.png](attachment:1ee58872-e915-4421-ae2c-640dc72a534f.png)\n"
   ]
  },
  {
   "cell_type": "code",
   "execution_count": null,
   "id": "f84eb1a1-c219-4b73-a5d4-da7eef78d3bc",
   "metadata": {},
   "outputs": [],
   "source": []
  }
 ],
 "metadata": {
  "kernelspec": {
   "display_name": "Python 3 (ipykernel)",
   "language": "python",
   "name": "python3"
  },
  "language_info": {
   "codemirror_mode": {
    "name": "ipython",
    "version": 3
   },
   "file_extension": ".py",
   "mimetype": "text/x-python",
   "name": "python",
   "nbconvert_exporter": "python",
   "pygments_lexer": "ipython3",
   "version": "3.11.7"
  }
 },
 "nbformat": 4,
 "nbformat_minor": 5
}
